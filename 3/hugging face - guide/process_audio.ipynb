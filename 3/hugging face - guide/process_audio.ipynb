{
 "cells": [
  {
   "cell_type": "code",
   "execution_count": 1,
   "metadata": {},
   "outputs": [],
   "source": [
    "import pandas as pd"
   ]
  },
  {
   "cell_type": "code",
   "execution_count": 2,
   "metadata": {},
   "outputs": [],
   "source": [
    "train= pd.read_csv(\"./dataset/cv-valid-train.csv\")\n",
    "test = pd.read_csv(\"./dataset/cv-valid-test.csv\")"
   ]
  },
  {
   "cell_type": "code",
   "execution_count": 3,
   "metadata": {},
   "outputs": [],
   "source": [
    "train = train.sort_values(by=[\"up_votes\",\"down_votes\",\"age\",\"gender\",\"accent\",\"duration\"], ascending=[False,True,False,False,False,False]).head(80)[['filename', 'text']].reset_index(drop=True)\n",
    "test = test.sort_values(by=[\"up_votes\",\"down_votes\",\"age\",\"gender\",\"accent\",\"duration\"], ascending=[False,True,False,False,False,False]).head(20)[['filename', 'text']].reset_index(drop=True)"
   ]
  },
  {
   "cell_type": "code",
   "execution_count": 4,
   "metadata": {},
   "outputs": [],
   "source": [
    "train[\"filename\"]  = [ x.split(\"/\")[-1] for x in train[\"filename\"]]\n",
    "test[\"filename\"]  = [ x.split(\"/\")[-1] for x in test[\"filename\"]]"
   ]
  },
  {
   "cell_type": "code",
   "execution_count": 5,
   "metadata": {},
   "outputs": [],
   "source": [
    "train.to_csv(\"./Dataset-new/train.csv\")\n",
    "test.to_csv(\"./Dataset-new/test.csv\")"
   ]
  },
  {
   "cell_type": "code",
   "execution_count": 9,
   "metadata": {},
   "outputs": [],
   "source": [
    "file_list = list(train[\"filename\"])"
   ]
  },
  {
   "cell_type": "code",
   "execution_count": 10,
   "metadata": {},
   "outputs": [
    {
     "name": "stdout",
     "output_type": "stream",
     "text": [
      "Copied: sample-175809.mp3\n",
      "Copied: sample-043243.mp3\n",
      "Copied: sample-131335.mp3\n",
      "Copied: sample-127808.mp3\n",
      "Copied: sample-013557.mp3\n",
      "Copied: sample-101125.mp3\n",
      "Copied: sample-077937.mp3\n",
      "Copied: sample-084512.mp3\n",
      "Copied: sample-042637.mp3\n",
      "Copied: sample-045193.mp3\n",
      "Copied: sample-158536.mp3\n",
      "Copied: sample-087107.mp3\n",
      "Copied: sample-053797.mp3\n",
      "Copied: sample-162639.mp3\n",
      "Copied: sample-144103.mp3\n",
      "Copied: sample-151927.mp3\n",
      "Copied: sample-105006.mp3\n",
      "Copied: sample-177797.mp3\n",
      "Copied: sample-017921.mp3\n",
      "Copied: sample-084651.mp3\n",
      "Copied: sample-060888.mp3\n",
      "Copied: sample-036055.mp3\n",
      "Copied: sample-013150.mp3\n",
      "Copied: sample-119663.mp3\n",
      "Copied: sample-124123.mp3\n",
      "Copied: sample-178262.mp3\n",
      "Copied: sample-005811.mp3\n",
      "Copied: sample-175999.mp3\n",
      "Copied: sample-095923.mp3\n",
      "Copied: sample-043952.mp3\n",
      "Copied: sample-156729.mp3\n",
      "Copied: sample-125124.mp3\n",
      "Copied: sample-062159.mp3\n",
      "Copied: sample-015476.mp3\n",
      "Copied: sample-022588.mp3\n",
      "Copied: sample-040081.mp3\n",
      "Copied: sample-045710.mp3\n",
      "Copied: sample-156724.mp3\n",
      "Copied: sample-035695.mp3\n",
      "Copied: sample-168125.mp3\n",
      "Copied: sample-099576.mp3\n",
      "Copied: sample-156090.mp3\n",
      "Copied: sample-169344.mp3\n",
      "Copied: sample-146006.mp3\n",
      "Copied: sample-062612.mp3\n",
      "Copied: sample-113037.mp3\n",
      "Copied: sample-162475.mp3\n",
      "Copied: sample-158415.mp3\n",
      "Copied: sample-066604.mp3\n",
      "Copied: sample-076511.mp3\n",
      "Copied: sample-110696.mp3\n",
      "Copied: sample-027840.mp3\n",
      "Copied: sample-015527.mp3\n",
      "Copied: sample-027742.mp3\n",
      "Copied: sample-150080.mp3\n",
      "Copied: sample-011187.mp3\n",
      "Copied: sample-024536.mp3\n",
      "Copied: sample-168736.mp3\n",
      "Copied: sample-052593.mp3\n",
      "Copied: sample-118911.mp3\n",
      "Copied: sample-037579.mp3\n",
      "Copied: sample-181165.mp3\n",
      "Copied: sample-156515.mp3\n",
      "Copied: sample-117789.mp3\n",
      "Copied: sample-022840.mp3\n",
      "Copied: sample-080898.mp3\n",
      "Copied: sample-192710.mp3\n",
      "Copied: sample-153783.mp3\n",
      "Copied: sample-156489.mp3\n",
      "Copied: sample-066835.mp3\n",
      "Copied: sample-099939.mp3\n",
      "Copied: sample-081250.mp3\n",
      "Copied: sample-112441.mp3\n",
      "Copied: sample-126947.mp3\n",
      "Copied: sample-025506.mp3\n",
      "Copied: sample-014224.mp3\n",
      "Copied: sample-134048.mp3\n",
      "Copied: sample-042006.mp3\n",
      "Copied: sample-019125.mp3\n",
      "Copied: sample-009916.mp3\n"
     ]
    }
   ],
   "source": [
    "import shutil\n",
    "import os\n",
    "\n",
    "def copy_files(file_list, source_dir, target_dir):\n",
    "    \"\"\"\n",
    "    Copies a specific list of files from the source directory to the target directory.\n",
    "\n",
    "    Parameters:\n",
    "    - file_list (list): List of filenames to copy.\n",
    "    - source_dir (str): The source directory path.\n",
    "    - target_dir (str): The target directory path.\n",
    "    \"\"\"\n",
    "    # Ensure the target directory exists, create it if it doesn't\n",
    "    if not os.path.exists(target_dir):\n",
    "        os.makedirs(target_dir)\n",
    "\n",
    "    for filename in file_list:\n",
    "        source_file = os.path.join(source_dir, filename)\n",
    "        target_file = os.path.join(target_dir, filename)\n",
    "\n",
    "        # Check if the file exists in the source directory\n",
    "        if os.path.isfile(source_file):\n",
    "            shutil.copy(source_file, target_file)\n",
    "            print(f\"Copied: {filename}\")\n",
    "        else:\n",
    "            print(f\"File not found: {filename}\")\n",
    "\n",
    "source_dir = r'D:\\Work\\Intern\\Gemicats\\3\\hugging face - guide\\dataset\\cv-valid-train\\cv-valid-train'\n",
    "target_dir = r'D:\\Work\\Intern\\Gemicats\\3\\Generate_dataset_whisper\\Train_data'\n",
    "\n",
    "copy_files(file_list, source_dir, target_dir)\n"
   ]
  },
  {
   "cell_type": "code",
   "execution_count": null,
   "metadata": {},
   "outputs": [],
   "source": []
  }
 ],
 "metadata": {
  "kernelspec": {
   "display_name": "venv",
   "language": "python",
   "name": "python3"
  },
  "language_info": {
   "codemirror_mode": {
    "name": "ipython",
    "version": 3
   },
   "file_extension": ".py",
   "mimetype": "text/x-python",
   "name": "python",
   "nbconvert_exporter": "python",
   "pygments_lexer": "ipython3",
   "version": "3.9.13"
  }
 },
 "nbformat": 4,
 "nbformat_minor": 2
}
